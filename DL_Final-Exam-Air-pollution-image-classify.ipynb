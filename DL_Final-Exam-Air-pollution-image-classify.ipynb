{
  "cells": [
    {
      "cell_type": "code",
      "execution_count": null,
      "metadata": {
        "id": "cX8oz34nA9a2"
      },
      "outputs": [],
      "source": [
        "from google.colab import drive\n",
        "import os\n",
        "\n",
        "drive.mount('/content/drive')\n",
        "\n",
        "data_dir = \"/content/drive/MyDrive/深度學習期末/archive/Dataset_for_AQI_Classification/Dataset_for_AQI_Classification/\"\n",
        "img_dir = os.path.join(data_dir, \"All_img/\")\n",
        "train_csv = os.path.join(data_dir, \"train_data.csv\")\n",
        "val_csv = os.path.join(data_dir, \"val_data.csv\")\n",
        "test_csv = os.path.join(data_dir, \"testing_data.csv\")\n",
        "\n"
      ]
    },
    {
      "cell_type": "code",
      "execution_count": null,
      "metadata": {
        "id": "vTpdR6VgEAxq",
        "colab": {
          "base_uri": "https://localhost:8080/"
        },
        "outputId": "1617102f-e48e-4dd9-b020-17c07acdb077"
      },
      "outputs": [
        {
          "output_type": "stream",
          "name": "stdout",
          "text": [
            "Drive already mounted at /content/drive; to attempt to forcibly remount, call drive.mount(\"/content/drive\", force_remount=True).\n",
            "✅ 成功讀取 train_data.csv，共 7833 筆資料\n",
            "✅ 成功讀取 val_data.csv，共 1959 筆資料\n",
            "✅ 成功讀取 test_data.csv，共 2448 筆資料\n",
            "✅ 圖片資料夾 All_img 裡有 12240 張圖片，前 5 張: ['UP_SEV_2023-02-19-14.30-1-8.jpg', 'UP_SEV_2023-02-18-14.30-1-56.jpg', 'UP_SEV_2023-02-18-11.00-1-45.jpg', 'UP_SEV_2023-02-20-08.30-1-40.jpg', 'UP_SEV_2023-02-18-14.30-1-61.jpg']\n"
          ]
        }
      ],
      "source": [
        "from google.colab import drive\n",
        "import os\n",
        "\n",
        "drive.mount('/content/drive')\n",
        "\n",
        "# 已經確認過CSV可以讀取，所以續用CSV的路徑\n",
        "data_dir = \"/content/drive/MyDrive/深度學習期末/archive/Dataset_for_AQI_Classification/Dataset_for_AQI_Classification/\"\n",
        "train_csv = os.path.join(data_dir, \"train_data.csv\")\n",
        "val_csv = os.path.join(data_dir, \"val_data.csv\")\n",
        "test_csv = os.path.join(data_dir, \"testing_data.csv\")\n",
        "\n",
        "# 修正為圖片實際所在的資料夾\n",
        "img_dir = \"/content/drive/MyDrive/深度學習期末/archive/Air Pollution Image Dataset/Air Pollution Image Dataset/Combined_Dataset/All_img/\"\n",
        "\n",
        "# 測試 CSV 讀取與圖片是否存在\n",
        "import pandas as pd\n",
        "# CSV 測試\n",
        "for name, path in [(\"train\", train_csv), (\"val\", val_csv), (\"test\", test_csv)]:\n",
        "    try:\n",
        "        df = pd.read_csv(path)\n",
        "        print(f\"✅ 成功讀取 {name}_data.csv，共 {len(df)} 筆資料\")\n",
        "    except Exception as e:\n",
        "        print(f\"❌ 無法讀取 {name}_data.csv，錯誤：\", e)\n",
        "\n",
        "# 圖片資料夾測試\n",
        "if os.path.isdir(img_dir):\n",
        "    imgs = os.listdir(img_dir)\n",
        "    print(\"✅ 圖片資料夾 All_img 裡有\", len(imgs), \"張圖片，前 5 張:\", imgs[:5])\n",
        "else:\n",
        "    print(\"❌ 找不到圖片資料夾，路徑為：\", img_dir)\n"
      ]
    },
    {
      "cell_type": "code",
      "execution_count": null,
      "metadata": {
        "id": "FrB1ilZkwr_l"
      },
      "outputs": [],
      "source": [
        "import pandas as pd\n",
        "import os\n",
        "from PIL import Image\n",
        "from torch.utils.data import Dataset, DataLoader\n",
        "from torchvision import transforms\n",
        "\n",
        "# Label 對應表\n",
        "label2idx = {\n",
        "    \"a_Good\": 0, \"b_Moderate\": 1, \"c_Unhealthy_for_Sensitive_Groups\": 2,\n",
        "    \"d_Unhealthy\": 3, \"e_Very_Unhealthy\": 4, \"f_Severe\": 5\n",
        "}\n",
        "\n",
        "# Dataset class\n",
        "class AQIDataset(Dataset):\n",
        "    def __init__(self, csv_file, img_dir, transform=None):\n",
        "        self.df = pd.read_csv(csv_file)\n",
        "        self.img_dir = img_dir\n",
        "        self.transform = transform\n",
        "    def __len__(self):\n",
        "        return len(self.df)\n",
        "    def __getitem__(self, idx):\n",
        "        row = self.df.iloc[idx]\n",
        "        img = Image.open(os.path.join(self.img_dir, row['Filename'])).convert('RGB')\n",
        "        if self.transform:\n",
        "            img = self.transform(img)\n",
        "        label = label2idx[row['AQI_Class']]\n",
        "        return img, label\n",
        "\n",
        "# 圖像預處理：resize → tensor → normalization\n",
        "transform = transforms.Compose([\n",
        "    transforms.Resize((224, 224)),\n",
        "    transforms.ToTensor(),\n",
        "    transforms.Normalize(mean=[0.485,0.456,0.406], std=[0.229,0.224,0.225]),\n",
        "])\n",
        "\n",
        "# 建立 DataLoader\n",
        "train_ds = AQIDataset(train_csv, img_dir, transform)\n",
        "val_ds = AQIDataset(val_csv, img_dir, transform)\n",
        "test_ds = AQIDataset(test_csv, img_dir, transform)\n",
        "\n",
        "train_loader = DataLoader(train_ds, batch_size=32, shuffle=True)\n",
        "val_loader = DataLoader(val_ds, batch_size=32, shuffle=False)\n",
        "test_loader = DataLoader(test_ds, batch_size=32, shuffle=False)\n"
      ]
    },
    {
      "cell_type": "code",
      "execution_count": null,
      "metadata": {
        "colab": {
          "base_uri": "https://localhost:8080/"
        },
        "id": "bAhRQtbq_epT",
        "outputId": "25f33ca6-e1bd-4f0d-eb35-ba74398fb08b"
      },
      "outputs": [
        {
          "output_type": "stream",
          "name": "stderr",
          "text": [
            "Downloading: \"https://download.pytorch.org/models/resnet18-f37072fd.pth\" to /root/.cache/torch/hub/checkpoints/resnet18-f37072fd.pth\n",
            "100%|██████████| 44.7M/44.7M [00:00<00:00, 151MB/s]\n"
          ]
        },
        {
          "output_type": "stream",
          "name": "stdout",
          "text": [
            "[Epoch 01] train_loss: 0.3887, val_loss: 0.1051, val_acc: 0.9719\n",
            "[Epoch 02] train_loss: 0.0524, val_loss: 0.0673, val_acc: 0.9806\n",
            "[Epoch 03] train_loss: 0.0218, val_loss: 0.0487, val_acc: 0.9857\n",
            "[Epoch 04] train_loss: 0.0185, val_loss: 0.0582, val_acc: 0.9857\n",
            "[Epoch 05] train_loss: 0.0387, val_loss: 0.0756, val_acc: 0.9781\n",
            "[Epoch 06] train_loss: 0.0129, val_loss: 0.0575, val_acc: 0.9862\n",
            "[Epoch 07] train_loss: 0.0204, val_loss: 0.0579, val_acc: 0.9847\n",
            "[Epoch 08] train_loss: 0.0178, val_loss: 0.0545, val_acc: 0.9883\n",
            "[Epoch 09] train_loss: 0.0196, val_loss: 0.0905, val_acc: 0.9765\n",
            "[Epoch 10] train_loss: 0.0220, val_loss: 0.0449, val_acc: 0.9877\n"
          ]
        }
      ],
      "source": [
        "import torch\n",
        "import torch.nn as nn\n",
        "from torchvision import models\n",
        "from torchvision.models import ResNet18_Weights\n",
        "\n",
        "# 指定裝置\n",
        "device = torch.device('cuda' if torch.cuda.is_available() else 'cpu')\n",
        "\n",
        "# 使用 weights 參數替代 pretrained=True（避免 deprecation 警告）\n",
        "model = models.resnet18(weights=ResNet18_Weights.DEFAULT)\n",
        "model.fc = nn.Linear(model.fc.in_features, 6)  # 修改輸出層為 6 類\n",
        "model = model.to(device)\n",
        "\n",
        "# 損失函數與優化器\n",
        "criterion = nn.CrossEntropyLoss()\n",
        "optimizer = torch.optim.Adam(model.parameters(), lr=1e-4)\n",
        "\n",
        "def train_one_epoch():\n",
        "    model.train()\n",
        "    total_loss = 0\n",
        "    for imgs, labels in train_loader:\n",
        "        imgs, labels = imgs.to(device), labels.to(device)\n",
        "        outs = model(imgs)\n",
        "        loss = criterion(outs, labels)\n",
        "        optimizer.zero_grad()\n",
        "        loss.backward()\n",
        "        optimizer.step()\n",
        "        total_loss += loss.item()\n",
        "    return total_loss / len(train_loader)\n",
        "\n",
        "def evaluate():\n",
        "    model.eval()\n",
        "    total_loss = correct = total = 0\n",
        "    with torch.no_grad():\n",
        "        for imgs, labels in val_loader:\n",
        "            imgs, labels = imgs.to(device), labels.to(device)\n",
        "            outs = model(imgs)\n",
        "            loss = criterion(outs, labels)\n",
        "            total_loss += loss.item()\n",
        "            preds = outs.argmax(dim=1)\n",
        "            correct += (preds == labels).sum().item()\n",
        "            total += labels.size(0)\n",
        "    return total_loss / len(val_loader), correct / total\n",
        "\n",
        "# 訓練主迴圈\n",
        "for epoch in range(1, 11):\n",
        "    tr_loss = train_one_epoch()\n",
        "    val_loss, val_acc = evaluate()\n",
        "    print(f\"[Epoch {epoch:02d}] train_loss: {tr_loss:.4f}, val_loss: {val_loss:.4f}, val_acc: {val_acc:.4f}\")\n",
        "\n",
        "\n"
      ]
    },
    {
      "cell_type": "code",
      "execution_count": null,
      "metadata": {
        "id": "WkosBhoB_mhW",
        "colab": {
          "base_uri": "https://localhost:8080/",
          "height": 1000
        },
        "outputId": "5d82e2d8-a181-43f7-cce3-b763a614e645"
      },
      "outputs": [
        {
          "output_type": "stream",
          "name": "stdout",
          "text": [
            "✅ YU_submission.csv 已產生，請前往 Kaggle 上傳\n",
            "🎯 測試集準確率 (Accuracy): 0.9951\n",
            "\n",
            "📊 測試集分類表現：\n",
            "                                  precision    recall  f1-score   support\n",
            "\n",
            "                          a_Good       1.00      0.99      1.00       310\n",
            "                      b_Moderate       0.99      1.00      1.00       314\n",
            "c_Unhealthy_for_Sensitive_Groups       0.99      0.99      0.99       569\n",
            "                     d_Unhealthy       0.99      1.00      1.00       526\n",
            "                e_Very_Unhealthy       1.00      0.99      0.99       440\n",
            "                        f_Severe       1.00      1.00      1.00       289\n",
            "\n",
            "                        accuracy                           1.00      2448\n",
            "                       macro avg       1.00      1.00      1.00      2448\n",
            "                    weighted avg       1.00      1.00      1.00      2448\n",
            "\n"
          ]
        },
        {
          "output_type": "stream",
          "name": "stderr",
          "text": [
            "/usr/local/lib/python3.11/dist-packages/IPython/core/pylabtools.py:151: UserWarning: Glyph 23526 (\\N{CJK UNIFIED IDEOGRAPH-5BE6}) missing from font(s) DejaVu Sans.\n",
            "  fig.canvas.print_figure(bytes_io, **kw)\n",
            "/usr/local/lib/python3.11/dist-packages/IPython/core/pylabtools.py:151: UserWarning: Glyph 38555 (\\N{CJK UNIFIED IDEOGRAPH-969B}) missing from font(s) DejaVu Sans.\n",
            "  fig.canvas.print_figure(bytes_io, **kw)\n",
            "/usr/local/lib/python3.11/dist-packages/IPython/core/pylabtools.py:151: UserWarning: Glyph 39006 (\\N{CJK UNIFIED IDEOGRAPH-985E}) missing from font(s) DejaVu Sans.\n",
            "  fig.canvas.print_figure(bytes_io, **kw)\n",
            "/usr/local/lib/python3.11/dist-packages/IPython/core/pylabtools.py:151: UserWarning: Glyph 21029 (\\N{CJK UNIFIED IDEOGRAPH-5225}) missing from font(s) DejaVu Sans.\n",
            "  fig.canvas.print_figure(bytes_io, **kw)\n",
            "/usr/local/lib/python3.11/dist-packages/IPython/core/pylabtools.py:151: UserWarning: Glyph 9989 (\\N{WHITE HEAVY CHECK MARK}) missing from font(s) DejaVu Sans.\n",
            "  fig.canvas.print_figure(bytes_io, **kw)\n",
            "/usr/local/lib/python3.11/dist-packages/IPython/core/pylabtools.py:151: UserWarning: Glyph 28204 (\\N{CJK UNIFIED IDEOGRAPH-6E2C}) missing from font(s) DejaVu Sans.\n",
            "  fig.canvas.print_figure(bytes_io, **kw)\n",
            "/usr/local/lib/python3.11/dist-packages/IPython/core/pylabtools.py:151: UserWarning: Glyph 35430 (\\N{CJK UNIFIED IDEOGRAPH-8A66}) missing from font(s) DejaVu Sans.\n",
            "  fig.canvas.print_figure(bytes_io, **kw)\n",
            "/usr/local/lib/python3.11/dist-packages/IPython/core/pylabtools.py:151: UserWarning: Glyph 38598 (\\N{CJK UNIFIED IDEOGRAPH-96C6}) missing from font(s) DejaVu Sans.\n",
            "  fig.canvas.print_figure(bytes_io, **kw)\n",
            "/usr/local/lib/python3.11/dist-packages/IPython/core/pylabtools.py:151: UserWarning: Glyph 28151 (\\N{CJK UNIFIED IDEOGRAPH-6DF7}) missing from font(s) DejaVu Sans.\n",
            "  fig.canvas.print_figure(bytes_io, **kw)\n",
            "/usr/local/lib/python3.11/dist-packages/IPython/core/pylabtools.py:151: UserWarning: Glyph 28102 (\\N{CJK UNIFIED IDEOGRAPH-6DC6}) missing from font(s) DejaVu Sans.\n",
            "  fig.canvas.print_figure(bytes_io, **kw)\n",
            "/usr/local/lib/python3.11/dist-packages/IPython/core/pylabtools.py:151: UserWarning: Glyph 30697 (\\N{CJK UNIFIED IDEOGRAPH-77E9}) missing from font(s) DejaVu Sans.\n",
            "  fig.canvas.print_figure(bytes_io, **kw)\n",
            "/usr/local/lib/python3.11/dist-packages/IPython/core/pylabtools.py:151: UserWarning: Glyph 38499 (\\N{CJK UNIFIED IDEOGRAPH-9663}) missing from font(s) DejaVu Sans.\n",
            "  fig.canvas.print_figure(bytes_io, **kw)\n",
            "/usr/local/lib/python3.11/dist-packages/IPython/core/pylabtools.py:151: UserWarning: Glyph 38928 (\\N{CJK UNIFIED IDEOGRAPH-9810}) missing from font(s) DejaVu Sans.\n",
            "  fig.canvas.print_figure(bytes_io, **kw)\n"
          ]
        },
        {
          "output_type": "display_data",
          "data": {
            "text/plain": [
              "<Figure size 800x600 with 2 Axes>"
            ],
            "image/png": "[encoded data removed]"
          },
          "metadata": {}
        }
      ],
      "source": [
        "# 測試集預測並產出 submission.csv\n",
        "import numpy as np\n",
        "import pandas as pd\n",
        "\n",
        "model.eval()\n",
        "all_probs = []\n",
        "\n",
        "with torch.no_grad():\n",
        "    for imgs, _ in test_loader:  # 測試集不使用標籤\n",
        "        imgs = imgs.to(device)\n",
        "        outs = model(imgs)\n",
        "        probs = torch.softmax(outs, dim=1).cpu().numpy()\n",
        "        all_probs.append(probs)\n",
        "\n",
        "# 合併所有批次的預測結果\n",
        "all_probs = np.vstack(all_probs)\n",
        "\n",
        "# 對應類別欄位名稱\n",
        "cols = [\"a_Good\", \"b_Moderate\", \"c_Unhealthy_for_Sensitive_Groups\",\n",
        "        \"d_Unhealthy\", \"e_Very_Unhealthy\", \"f_Severe\"]\n",
        "\n",
        "# 讀取測試集的原始檔名欄位\n",
        "test_df = pd.read_csv(test_csv)  # 注意：test_csv 應為你之前設定的變數（含完整路徑）\n",
        "\n",
        "# 建立提交檔案 DataFrame\n",
        "submission = pd.DataFrame(all_probs, columns=cols)\n",
        "submission.insert(0, \"Filename\", test_df[\"Filename\"])\n",
        "\n",
        "# 輸出 CSV 檔案\n",
        "submission.to_csv(\"YU_submission.csv\", index=False)\n",
        "print(\"✅ YU_submission.csv 已產生，請前往 Kaggle 上傳\")\n",
        "\n",
        "from sklearn.metrics import classification_report, confusion_matrix, accuracy_score\n",
        "import seaborn as sns\n",
        "import matplotlib.pyplot as plt\n",
        "\n",
        "# 用 all_probs 轉成預測類別 index\n",
        "pred_labels = np.argmax(all_probs, axis=1)\n",
        "\n",
        "# 對應 label 編碼\n",
        "label2idx = {\n",
        "    \"a_Good\": 0, \"b_Moderate\": 1, \"c_Unhealthy_for_Sensitive_Groups\": 2,\n",
        "    \"d_Unhealthy\": 3, \"e_Very_Unhealthy\": 4, \"f_Severe\": 5\n",
        "}\n",
        "idx2label = {v: k for k, v in label2idx.items()}\n",
        "\n",
        "# 讀入真實標籤\n",
        "true_labels = test_df[\"AQI_Class\"].map(label2idx).values\n",
        "\n",
        "# 計算 accuracy\n",
        "acc = accuracy_score(true_labels, pred_labels)\n",
        "print(f\"🎯 測試集準確率 (Accuracy): {acc:.4f}\")\n",
        "\n",
        "# Classification Report\n",
        "print(\"\\n📊 測試集分類表現：\")\n",
        "print(classification_report(true_labels, pred_labels, target_names=label2idx.keys()))\n",
        "\n",
        "# 混淆矩陣\n",
        "cm = confusion_matrix(true_labels, pred_labels)\n",
        "plt.figure(figsize=(8, 6))\n",
        "sns.heatmap(cm, annot=True, fmt='d', cmap='Blues', xticklabels=label2idx.keys(), yticklabels=label2idx.keys())\n",
        "plt.title(\"✅ 測試集混淆矩陣\")\n",
        "plt.xlabel(\"預測類別\")\n",
        "plt.ylabel(\"實際類別\")\n",
        "plt.show()\n",
        "\n",
        "\n"
      ]
    },
    {
      "cell_type": "code",
      "execution_count": null,
      "metadata": {
        "id": "Ph5O8sdD_yqP",
        "colab": {
          "base_uri": "https://localhost:8080/",
          "height": 160
        },
        "outputId": "af60a300-e028-4d86-d423-dd1c6ada451a"
      },
      "outputs": [
        {
          "output_type": "display_data",
          "data": {
            "text/plain": [
              "<IPython.core.display.Javascript object>"
            ],
            "application/javascript": [
              "\n",
              "    async function download(id, filename, size) {\n",
              "      if (!google.colab.kernel.accessAllowed) {\n",
              "        return;\n",
              "      }\n",
              "      const div = document.createElement('div');\n",
              "      const label = document.createElement('label');\n",
              "      label.textContent = `Downloading \"${filename}\": `;\n",
              "      div.appendChild(label);\n",
              "      const progress = document.createElement('progress');\n",
              "      progress.max = size;\n",
              "      div.appendChild(progress);\n",
              "      document.body.appendChild(div);\n",
              "\n",
              "      const buffers = [];\n",
              "      let downloaded = 0;\n",
              "\n",
              "      const channel = await google.colab.kernel.comms.open(id);\n",
              "      // Send a message to notify the kernel that we're ready.\n",
              "      channel.send({})\n",
              "\n",
              "      for await (const message of channel.messages) {\n",
              "        // Send a message to notify the kernel that we're ready.\n",
              "        channel.send({})\n",
              "        if (message.buffers) {\n",
              "          for (const buffer of message.buffers) {\n",
              "            buffers.push(buffer);\n",
              "            downloaded += buffer.byteLength;\n",
              "            progress.value = downloaded;\n",
              "          }\n",
              "        }\n",
              "      }\n",
              "      const blob = new Blob(buffers, {type: 'application/binary'});\n",
              "      const a = document.createElement('a');\n",
              "      a.href = window.URL.createObjectURL(blob);\n",
              "      a.download = filename;\n",
              "      div.appendChild(a);\n",
              "      a.click();\n",
              "      div.remove();\n",
              "    }\n",
              "  "
            ]
          },
          "metadata": {}
        },
        {
          "output_type": "display_data",
          "data": {
            "text/plain": [
              "<IPython.core.display.Javascript object>"
            ],
            "application/javascript": [
              "download(\"download_21e608d0-3198-415d-9e3b-e32fba0fa65e\", \"YU_submission.csv\", 277802)"
            ]
          },
          "metadata": {}
        },
        {
          "output_type": "stream",
          "name": "stdout",
          "text": [
            "每一類預測平均機率：\n",
            "a_Good                              0.124563\n",
            "b_Moderate                          0.130014\n",
            "c_Unhealthy_for_Sensitive_Groups    0.231819\n",
            "d_Unhealthy                         0.215337\n",
            "e_Very_Unhealthy                    0.179530\n",
            "f_Severe                            0.118733\n",
            "dtype: float32\n"
          ]
        }
      ],
      "source": [
        "from google.colab import files\n",
        "files.download(\"YU_submission.csv\")\n",
        "#下載csv檔案\n",
        "print(\"每一類預測平均機率：\")\n",
        "print(submission[cols].mean())\n"
      ]
    },
    {
      "cell_type": "code",
      "source": [
        "csv_path = \"/content/drive/MyDrive/深度學習期末/archive/Air Pollution Image Dataset/Air Pollution Image Dataset/Combined_Dataset/IND_and_Nep_AQI_Dataset.csv\"\n",
        "img_dir = \"/content/drive/MyDrive/深度學習期末/archive/Air Pollution Image Dataset/Air Pollution Image Dataset/Combined_Dataset/All_img\"\n",
        "\n",
        "print(\"✅ IND_Nep_AQI_Dataset.csv 是否存在？\", os.path.exists(csv_path))\n",
        "print(\"✅ All_img 資料夾是否存在？\", os.path.exists(img_dir))\n"
      ],
      "metadata": {
        "colab": {
          "base_uri": "https://localhost:8080/"
        },
        "id": "NXTfrNatCbn6",
        "outputId": "b9cbd04e-6f68-4fe2-80a7-8ea095c1fb0e"
      },
      "execution_count": 10,
      "outputs": [
        {
          "output_type": "stream",
          "name": "stdout",
          "text": [
            "✅ IND_Nep_AQI_Dataset.csv 是否存在？ True\n",
            "✅ All_img 資料夾是否存在？ True\n"
          ]
        }
      ]
    },
    {
      "cell_type": "code",
      "source": [
        "# 迴歸運算\n",
        "# ✅ Step 1: 匯入套件與定義路徑\n",
        "import os\n",
        "import pandas as pd\n",
        "import numpy as np\n",
        "from PIL import Image\n",
        "from sklearn.metrics import mean_absolute_error, mean_squared_error\n",
        "from torch.utils.data import Dataset, DataLoader\n",
        "import torch\n",
        "import torch.nn as nn\n",
        "from torchvision import models, transforms\n",
        "\n",
        "# ✅ 檔案路徑\n",
        "csv_path = \"/content/drive/MyDrive/深度學習期末/archive/Air Pollution Image Dataset/Air Pollution Image Dataset/Combined_Dataset/IND_and_Nep_AQI_Dataset.csv\"\n",
        "img_dir = \"/content/drive/MyDrive/深度學習期末/archive/Air Pollution Image Dataset/Air Pollution Image Dataset/Combined_Dataset/All_img\"\n",
        "\n",
        "# ✅ Step 2: 定義 Dataset class\n",
        "class AQIRegressionDataset(Dataset):\n",
        "    def __init__(self, csv_file, img_dir, transform=None):\n",
        "        self.df = pd.read_csv(csv_file)\n",
        "        self.df = self.df.dropna(subset=[\"AQI\", \"PM2.5\", \"Filename\"])  # 移除缺失資料\n",
        "        self.img_dir = img_dir\n",
        "        self.transform = transform\n",
        "\n",
        "    def __len__(self):\n",
        "        return len(self.df)\n",
        "\n",
        "    def __getitem__(self, idx):\n",
        "        row = self.df.iloc[idx]\n",
        "        img_path = os.path.join(self.img_dir, row[\"Filename\"])\n",
        "        image = Image.open(img_path).convert(\"RGB\")\n",
        "        if self.transform:\n",
        "            image = self.transform(image)\n",
        "        labels = torch.tensor([row[\"AQI\"], row[\"PM2.5\"]], dtype=torch.float32)\n",
        "        return image, labels, row[\"Filename\"]\n",
        "\n",
        "# ✅ Step 3: 建立 Dataset 與 DataLoader\n",
        "transform = transforms.Compose([\n",
        "    transforms.Resize((224, 224)),\n",
        "    transforms.ToTensor(),\n",
        "    transforms.Normalize(mean=[0.485, 0.456, 0.406], std=[0.229, 0.224, 0.225])\n",
        "])\n",
        "\n",
        "dataset = AQIRegressionDataset(csv_file=csv_path, img_dir=img_dir, transform=transform)\n",
        "train_loader = DataLoader(dataset, batch_size=32, shuffle=True)\n",
        "\n",
        "# ✅ Step 4: 定義模型\n",
        "class AQIRegressor(nn.Module):\n",
        "    def __init__(self):\n",
        "        super(AQIRegressor, self).__init__()\n",
        "        self.backbone = models.resnet18(weights=models.ResNet18_Weights.DEFAULT)\n",
        "        self.backbone.fc = nn.Linear(self.backbone.fc.in_features, 2)  # 輸出 AQI + PM2.5\n",
        "\n",
        "    def forward(self, x):\n",
        "        return self.backbone(x)\n",
        "\n",
        "model = AQIRegressor().to(\"cuda\" if torch.cuda.is_available() else \"cpu\")\n",
        "\n",
        "# ✅ Step 5: 訓練模型\n",
        "criterion = nn.MSELoss()\n",
        "optimizer = torch.optim.Adam(model.parameters(), lr=1e-4)\n",
        "device = torch.device(\"cuda\" if torch.cuda.is_available() else \"cpu\")\n",
        "\n",
        "for epoch in range(10):\n",
        "    model.train()\n",
        "    total_loss = 0\n",
        "    for imgs, labels, _ in train_loader:\n",
        "        imgs, labels = imgs.to(device), labels.to(device)\n",
        "        preds = model(imgs)\n",
        "        loss = criterion(preds, labels)\n",
        "        optimizer.zero_grad()\n",
        "        loss.backward()\n",
        "        optimizer.step()\n",
        "        total_loss += loss.item()\n",
        "    print(f\"[Epoch {epoch+1}] Loss: {total_loss/len(train_loader):.4f}\")\n",
        "\n",
        "# ✅ Step 6: 測試預測並輸出成 csv\n",
        "model.eval()\n",
        "preds_list, true_list, fname_list = [], [], []\n",
        "\n",
        "with torch.no_grad():\n",
        "    for imgs, labels, fnames in train_loader:\n",
        "        imgs = imgs.to(device)\n",
        "        preds = model(imgs).cpu().numpy()\n",
        "        labels = labels.numpy()\n",
        "        preds_list.extend(preds)\n",
        "        true_list.extend(labels)\n",
        "        fname_list.extend(fnames)\n",
        "\n",
        "preds_array = np.array(preds_list)\n",
        "true_array = np.array(true_list)\n",
        "\n"
      ],
      "metadata": {
        "colab": {
          "base_uri": "https://localhost:8080/"
        },
        "id": "SgKKXFwpFBG_",
        "outputId": "88c05be3-27ca-42b9-bd38-0335f2aba248"
      },
      "execution_count": 14,
      "outputs": [
        {
          "output_type": "stream",
          "name": "stdout",
          "text": [
            "[Epoch 1] Loss: 31660.1069\n",
            "[Epoch 2] Loss: 19752.8195\n",
            "[Epoch 3] Loss: 10950.9247\n",
            "[Epoch 4] Loss: 6146.9061\n",
            "[Epoch 5] Loss: 3567.2328\n",
            "[Epoch 6] Loss: 2222.3457\n",
            "[Epoch 7] Loss: 1445.1261\n",
            "[Epoch 8] Loss: 1045.3015\n",
            "[Epoch 9] Loss: 686.7166\n",
            "[Epoch 10] Loss: 527.9442\n"
          ]
        }
      ]
    },
    {
      "cell_type": "code",
      "source": [
        "# 計算 MAE, RMSE\n",
        "mae = mean_absolute_error(true_array, preds_array)\n",
        "mse = mean_squared_error(true_array, preds_array)\n",
        "rmse = np.sqrt(mse)\n",
        "print(f\"\\n🎯 MAE: {mae:.2f}, RMSE: {rmse:.2f}\")\n",
        "\n",
        "\n",
        "# 建立結果 DataFrame 並輸出 CSV\n",
        "results_df = pd.DataFrame({\n",
        "    \"Filename\": fname_list,\n",
        "    \"AQI_true\": true_array[:, 0],\n",
        "    \"AQI_pred\": preds_array[:, 0],\n",
        "    \"PM2.5_true\": true_array[:, 1],\n",
        "    \"PM2.5_pred\": preds_array[:, 1],\n",
        "})\n",
        "\n",
        "results_df.to_csv(\"YU_regression.csv\", index=False)\n",
        "print(\"✅ YU_regression.csv 已產生\")\n",
        "\n",
        "# 顯示下載連結（適用於 Colab）\n",
        "from google.colab import files\n",
        "files.download(\"YU_regression.csv\")\n"
      ],
      "metadata": {
        "colab": {
          "base_uri": "https://localhost:8080/",
          "height": 71
        },
        "id": "VEIFF71zJgLT",
        "outputId": "55987dfb-b13d-4a46-dd39-30008df1d74c"
      },
      "execution_count": 15,
      "outputs": [
        {
          "output_type": "stream",
          "name": "stdout",
          "text": [
            "\n",
            "🎯 MAE: 13.01, RMSE: 16.89\n",
            "✅ YU_regression.csv 已產生\n"
          ]
        },
        {
          "output_type": "display_data",
          "data": {
            "text/plain": [
              "<IPython.core.display.Javascript object>"
            ],
            "application/javascript": [
              "\n",
              "    async function download(id, filename, size) {\n",
              "      if (!google.colab.kernel.accessAllowed) {\n",
              "        return;\n",
              "      }\n",
              "      const div = document.createElement('div');\n",
              "      const label = document.createElement('label');\n",
              "      label.textContent = `Downloading \"${filename}\": `;\n",
              "      div.appendChild(label);\n",
              "      const progress = document.createElement('progress');\n",
              "      progress.max = size;\n",
              "      div.appendChild(progress);\n",
              "      document.body.appendChild(div);\n",
              "\n",
              "      const buffers = [];\n",
              "      let downloaded = 0;\n",
              "\n",
              "      const channel = await google.colab.kernel.comms.open(id);\n",
              "      // Send a message to notify the kernel that we're ready.\n",
              "      channel.send({})\n",
              "\n",
              "      for await (const message of channel.messages) {\n",
              "        // Send a message to notify the kernel that we're ready.\n",
              "        channel.send({})\n",
              "        if (message.buffers) {\n",
              "          for (const buffer of message.buffers) {\n",
              "            buffers.push(buffer);\n",
              "            downloaded += buffer.byteLength;\n",
              "            progress.value = downloaded;\n",
              "          }\n",
              "        }\n",
              "      }\n",
              "      const blob = new Blob(buffers, {type: 'application/binary'});\n",
              "      const a = document.createElement('a');\n",
              "      a.href = window.URL.createObjectURL(blob);\n",
              "      a.download = filename;\n",
              "      div.appendChild(a);\n",
              "      a.click();\n",
              "      div.remove();\n",
              "    }\n",
              "  "
            ]
          },
          "metadata": {}
        },
        {
          "output_type": "display_data",
          "data": {
            "text/plain": [
              "<IPython.core.display.Javascript object>"
            ],
            "application/javascript": [
              "download(\"download_93cd245f-dfaf-4f53-9a41-52ee3ed42f3c\", \"YU_regression.csv\", 806751)"
            ]
          },
          "metadata": {}
        }
      ]
    }
  ],
  "metadata": {
    "accelerator": "GPU",
    "colab": {
      "gpuType": "T4",
      "provenance": []
    },
    "kernelspec": {
      "display_name": "Python 3",
      "name": "python3"
    },
    "language_info": {
      "name": "python"
    }
  },
  "nbformat": 4,
  "nbformat_minor": 0
}